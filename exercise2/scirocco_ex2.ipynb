{
 "cells": [
  {
   "cell_type": "markdown",
   "metadata": {},
   "source": [
    "# Exercise 2 - Calibration and Inversion"
   ]
  },
  {
   "cell_type": "markdown",
   "metadata": {},
   "source": [
    "## 1. Introduction"
   ]
  },
  {
   "cell_type": "markdown",
   "metadata": {
    "collapsed": false
   },
   "source": [
    "In this exercise you will investigate the inversion of the forward model for forest backscatter that you have\n",
    "used in the first exercise. The model inversion is used to retrieve soil moisture from backscatter observations.\n",
    "\n",
    "As you know from the first exercise, backscatter does not only depend on soil moisture, but also on roughness, \n",
    "vegetation volume and water content, sand content, clay content, temperature, and the observation\n",
    "configuration, i.e., the incidence angle and the signal frequency. The observation configuration is known,\n",
    "but for the soil moisture inversion to be not under-determined, we need to know also the state of all\n",
    "the other contributing geophysical parameters, in the following referred to as auxiliary parameters. The\n",
    "procedure in which we obtain these parameter states and assign it to the inverse model is called calibration.\n",
    "\n",
    "In the calibration you estimate the states of the auxiliary parameters, which are not retrieved in the inversion, \n",
    "but do also affect the backscatter signal. This is usually done using reference measurements for these parameters.\n",
    "There are four major issues with this.\n",
    "\n",
    "1. Sometimes we only have small-scale in situ measurements of the auxiliary parameters, but Earth\n",
    "observation data usually have very large footprint sizes. Hence, it is not easy to obtain estimates of\n",
    "for instance clay content or vegetation stem volume, which are representative for an area that might\n",
    "be several hundred square kilometers large.\n",
    "<br><br>\n",
    "2. If large scale reference measurements exist, or can be obtained through spatial averaging, these are\n",
    "sometimes not direct estimates of the parameters of interest, but of parameters related with it (e.g.,\n",
    "NDVI measurements as an indicator for forest stem volume).\n",
    "<br><br>\n",
    "3. All reference measurements have a certain accuracy. Hence, errors in these will propagate also\n",
    "through the retrieval model.\n",
    "<br><br>\n",
    "4. Sometimes we just don’t have reference measurements. In this case we have to either rely on our\n",
    "experience and assume values that are valid for this region, or try to optimise them, until they\n",
    "converge to a value that provides the ”most promising” retrieval of the target quantity, in our case\n",
    "soil moisture."
   ]
  },
  {
   "cell_type": "markdown",
   "metadata": {},
   "source": [
    "## 2. Datasets"
   ]
  },
  {
   "cell_type": "markdown",
   "metadata": {},
   "source": [
    "### 2.1 Backscatter data"
   ]
  },
  {
   "cell_type": "markdown",
   "metadata": {},
   "source": [
    "The backscatter data that you will use are from the Advanced SCATterometer (ASCAT) onboard the\n",
    "MetOp-A satellite. ASCAT is an active side-looking real aperture radar that observes at a spatial res-\n",
    "olution of 25 km with a revisit time of approximately 3 days. The measurements are made in C-band\n",
    "($f$ = 5.25 GHz, $\\lambda$ ≈ 5 cm) in VV polarisation with an incidence angle range from 25 − 65 degrees. More-\n",
    "over, it observes with three antennas on each side, referred to as fore-, mid-, and aft beam, pointing at 45,\n",
    "90, and 135 degrees, with respect to the flying direction (see Figure 1). Thus, each observation is provided\n",
    "as measurement triplet with three different backscatter values and incidence angles, obtained from the\n",
    "three different beams.\n",
    "\n",
    "<img src=\"ASCAT_geometry.JPG\" alt=\"ASCAT geometry\" style=\"width: 400px;\"/>"
   ]
  },
  {
   "cell_type": "markdown",
   "metadata": {},
   "source": [
    "### 2.2 Auxiliary data"
   ]
  },
  {
   "cell_type": "markdown",
   "metadata": {},
   "source": [
    "#### 2.2.1 Soil texture"
   ]
  },
  {
   "cell_type": "markdown",
   "metadata": {},
   "source": [
    "Soil texture information is available from the Harmonized World Soil Database (HWSD), which contains\n",
    "global soil texture information on a 1 km grid, collected and harmonized from different sources. You will\n",
    "be provided with sand and clay information."
   ]
  },
  {
   "cell_type": "markdown",
   "metadata": {},
   "source": [
    "#### 2.2.2 In situ measurements"
   ]
  },
  {
   "cell_type": "markdown",
   "metadata": {},
   "source": [
    "You will be provided with in situ measured soil moisture and precipitation to get a first impression how\n",
    "the results should look like."
   ]
  },
  {
   "cell_type": "markdown",
   "metadata": {},
   "source": [
    "## 3. Retrieval Method"
   ]
  },
  {
   "cell_type": "markdown",
   "metadata": {},
   "source": [
    "The retrieval method used here is a non-linear optimization, in which the sum of the squared\n",
    "differences between modelled and observed backscatter is minimized (see Equation (8) in Pulliainen et al.\n",
    "(2003)):\n",
    "\n",
    "$$min\\;\\sum_{i=1}^N{[\\sigma^0_{modelled,i}(f,\\theta,\\Theta_V,V,ks,S,C,T,\\Theta_S)\\;-\\;\\sigma^0_{observed,i}]^2}$$\n",
    "\n",
    "The idea is to find a set of model input parameters $(f,\\theta,\\Theta_V,V,ks,S,C,T,\\Theta_S)$, for which the modelled\n",
    "backscatter is closest to the actual measured backscatter. Once we have found this set, we have found\n",
    "the soil moisture state $\\Theta_S$ . Finding this set is done by making an arbitrary initial guess for the parameter states and then changing them until the minimum of the function $\\sigma^0_{modelled}\\;-\\;\\sigma^0_{observed}$ is reached.\n",
    "<br><br>\n",
    "One general problem with all optimization methods is ill-posedness. Different sets of input parameters\n",
    "$(f,\\theta,\\Theta_V,V,ks,S,C,T,\\Theta_S)$ can lead to the same model output. $f$ and $\\theta$ are known, but we still need to calibrate the remaining auxiliary model parameters $(\\Theta_V,V,ks,S,C,T)$, in order to get an unambiguous\n",
    "estimate for $\\Theta_S$. \n",
    "<br><br>\n",
    "As mentioned in the introduction, the calibration can be done by (i) using reference\n",
    "measurements of the parameters, (ii) making educated guesses of the parameters based on experience,\n",
    "and (iii) include some of the parameters in the optimization. In the algorithm that you will use, all three\n",
    "approaches are combined through the following steps:\n",
    "<br>\n",
    "1. We know that we have not only dynamic parameters that change over time, but also static parameters that can be assumed to remain constant. The dynamic parameters, which are soil moisture and\n",
    "vegetation water content, must be optimised, whereas the static parameters must be calibrated. The\n",
    "static parameters are soil structure ($S$, $C$), soil temperature ($T$), and surface roughness ($ks$), but\n",
    "also stem volume ($V$), if we consider leaves and tree growth over a few years to be negligible.\n",
    "<br><br>\n",
    "2. From the sensitivity analysis in the first exercise you know that temperature changes have almost no\n",
    "impact on backscatter. Hence, it can be kept constant with a rather arbitrary, but at least physically\n",
    "meaningful value of for instance 20°C. Estimates for soil texture can be used from the\n",
    "above mentioned HWSD. For roughness and stem volume, we have to make educated guesses and\n",
    "manually check the obtained estimates of the dynamic parameters.\n",
    "<br><br>\n",
    "3. Since we are using the multi incidence angle capability of ASCAT, we have a certain number of\n",
    "independent measurements and can thus try to include other parameters in the optimization. Ideally, these parameters should contribute to backscatter in an incidence angle depend way, such as\n",
    "roughness. Note that even though other parameters can be included in the optimization, we presume them to be constant over the considered time scales. Hence, the optimization is performed\n",
    "in two iterations: First, soil moisture, vegetation water content, and a selected third parameter is\n",
    "optimised for the entire period. Then, the median obtained value of the optimised static parameter\n",
    "is used as a constant value in the second iteration, in which only soil moisture and vegetation water\n",
    "content are dynamic."
   ]
  },
  {
   "cell_type": "markdown",
   "metadata": {},
   "source": [
    "## 4. Description of the study area"
   ]
  },
  {
   "cell_type": "markdown",
   "metadata": {},
   "source": [
    "Soil moisture data from ASCAT is available globally with a spatial resolution of 25 km, resampled to a grid\n",
    "with 12.5 km spacing between the individual grid points. The data that you will use is from one single grid\n",
    "point located over agricultural fields in the US (see Figure 2) and covers the entire year 2009.\n",
    "<br>An in situ monitoring station, named \"Larned\", is located within this pixel. It is operated by the Atmospheric Radiation Measurement (ARM) Climate Research Facility and provides ground measurements for\n",
    "soil moisture and precipitation. \n",
    "<br><br>\n",
    "The figure shows an aerial image of the used ASCAT pixel. The yellow cross marks the pixel center, the yellow box\n",
    "the grid box extent (25 km x 25 km). The white circle marks the contained in situ monitoring station.\n",
    "<img src=\"ascat_pixel.jpg\" alt=\"Aerial image of the used ASCAT pixel\" style=\"width: 700px;\"/>\n",
    "<br><br>\n",
    "The in situ measurements illustrated in the next figure shall give you an indicator how your soil moisture retrievals obtained from ASCAT should roughly look like. Note that these do not have to match exactly, because of the large difference in the observed spatial scale.\n",
    "<br><br>\n",
    "<img src=\"larned_data.jpg\" alt=\"In situ data from the monitoring station 'Larned'\" style=\"width: 700px;\"/>\n",
    "<br><br>\n",
    "According to the Harmonized World Soil Database (HWSD), the sand- and clay content should be 0.36\n",
    "and 0.23, respectively. Note that HWSD data is provided on a 1 km grid, whereas ASCAT observes at 25\n",
    "km spatial resolution. Hence, you should not take these values for granted but only use them as a starting\n",
    "point."
   ]
  },
  {
   "cell_type": "markdown",
   "metadata": {
    "collapsed": true
   },
   "source": [
    "## 5. Source code description"
   ]
  },
  {
   "cell_type": "markdown",
   "metadata": {},
   "source": [
    "The following parameters can be set:\n",
    "* sand, clay: Sand and clay content [%] (0-1)\n",
    "* temp: Temperature [°C]\n",
    "* s_vol: Stem volume $[\\frac{m^3}{ha}]$\n",
    "* f_rms: Surface roughness $[\\frac{s}{\\lambda}]$ [-] \n",
    "* m_soil_x0: Initial value for soil moisture $[\\frac{m^3m^{-3}}{m^3m^{-3}}]$ (0-0.6)\n",
    "* m_veg_x0: Initial value for vegetation water content $[\\frac{m^3m^{-3}}{m^3m^{-3}}]$ (0-1)\n",
    "<br><br>\n",
    "\n",
    "The parameters can also be set as a tuple:\n",
    "<pre><code>\n",
    "parameters = [{Parameter_set_1}, {Parameter_set_2}, {Parameter_set_3}, ...]\n",
    "</code></pre>\n",
    "<br><br>\n",
    "\n",
    "Sand, clay, temperature, stem volume, and surface roughness are the static parameters that must be passed,\n",
    "the x0 values for soil moisture and vegetation water content are the initial values to start the optimization.\n",
    "These parameters are mandatory. Optionally, the name of a third dynamic parameter (’optional param’)\n",
    "and a corresponding initial value (’optional x0’) can be included in the parameter list. This can be any of\n",
    "the above mentioned static parameters. If this is the case, the optimization will be performed for all three\n",
    "parameters and the median of the optimised optional parameter will be passed as static parameter in another optimization, this time only for soil moisture and vegetation water content. If passed as a tuple, the\n",
    "retrieval will be directly compared within the same plot. Additionally, the time span (only within 2009!)\n",
    "and the value range of the y-axis that shall be used in the plots can be optionally passed. If this is not\n",
    "done, the entire year 2009 and the minimum and maximum values of soil moisture and vegetation water\n",
    "content will be used as axes limits:\n",
    "\n",
    "<pre><code>\n",
    "parameters = [{Parameter_set_1}, {Parameter_set_2}, {Parameter_set_3}, ...]\n",
    "ue.optimise(parameters,\n",
    "            timespan = [’2009-03’, ’2009-06’],\n",
    "            m_veg_axes_lim = [0, 1],\n",
    "            m_soil_axes_lim = [0, 1])\n",
    "</code></pre>\n",
    "\n",
    "Example:\n",
    "<pre><code>\n",
    "parameters = [{’sand’: 0.36, ’clay’: 0.23, ’temp’: 20,\n",
    "                ’s_vol’: 100, ’f_rms’: 0.2,\n",
    "                ’m_veg_x0’: 0.5, ’m_soil_x0’: 0.01 },\n",
    "                {’sand’: 0.36, ’clay’: 0.23, ’temp’: 20,\n",
    "                ’s_vol’: 300, ’f_rms’: 0.2,\n",
    "                ’m_veg_x0’: 0.5, ’m_soil_x0’: 0.01 }]\n",
    "ue.optimise(parameters,\n",
    "            timespan = [’2009-06’, ’2009-12’],\n",
    "            m_veg_axes_lim = None,\n",
    "            m_soil_axes_lim = None)\n",
    "</code></pre>"
   ]
  },
  {
   "cell_type": "markdown",
   "metadata": {},
   "source": [
    "## 6. Code"
   ]
  },
  {
   "cell_type": "markdown",
   "metadata": {},
   "source": [
    "In this exercise, you analyse the impact of changes in the calibration on the retrieved soil moisture estimates.\n",
    "Unlike in the sensitivity analysis, you will be able to investigate the model behaviour for a complete time series here."
   ]
  },
  {
   "cell_type": "code",
   "execution_count": 5,
   "metadata": {
    "collapsed": true
   },
   "outputs": [],
   "source": [
    "%matplotlib inline"
   ]
  },
  {
   "cell_type": "code",
   "execution_count": 6,
   "metadata": {
    "collapsed": false
   },
   "outputs": [],
   "source": [
    "import optimisation as ue"
   ]
  },
  {
   "cell_type": "code",
   "execution_count": null,
   "metadata": {
    "collapsed": true
   },
   "outputs": [],
   "source": [
    "parameters = [{'sand': 0.36, 'clay': 0.23, 'temp': 20,\n",
    "               's_vol': 100, 'f_rms': 0.2,\n",
    "               'm_veg_x0': 0.5, 'm_soil_x0': 0.01},\n",
    "              {'sand': 0.36, 'clay': 0.23, 'temp': 20,\n",
    "               's_vol': 300, 'f_rms': 0.2,\n",
    "               'm_veg_x0': 0.5, 'm_soil_x0': 0.01}]\n",
    "\n",
    "# After changing the parameters, hit Shift+Enter to store the new values"
   ]
  },
  {
   "cell_type": "code",
   "execution_count": null,
   "metadata": {
    "collapsed": false
   },
   "outputs": [],
   "source": [
    "# Then run this code by hitting Shift+Enter\n",
    "# If an error appears, try to run the above code again\n",
    "# (Running the code may take a few seconds. If a warning (highlighted in red) occurs, you can just ignore it.)\n",
    "data = ue.optimise(parameters, timespan = ['2009-01', '2009-10'])"
   ]
  },
  {
   "cell_type": "markdown",
   "metadata": {},
   "source": [
    "## 7. Analysis"
   ]
  },
  {
   "cell_type": "markdown",
   "metadata": {
    "collapsed": false
   },
   "source": [
    "Try different parameter values in the above code and think about the following questions:\n",
    "<br>\n",
    "1. What is the impact of changes in the static calibration parameters? Which of them are of major/minor importance? In which way do they affect the optimised parameters (constant offset, scaling\n",
    "parameter, ...)?\n",
    "<br><br>\n",
    "2. Include also other parameters in the optimization. Do they converge to physically meaningful values?\n",
    "<br><br>\n",
    "3. How does the choice of the initial values of the optimised parameters affect the result?\n",
    "<br><br>\n",
    "4. What parameter set gives in your opinion the \"most realistic\" looking soil moisture retrieval?\n",
    "<br><br>\n",
    "5. Do the parameters equally affect the entire time period? If not, do you have an idea, why?\n",
    "<br><br>\n",
    "6. Do your findings match to what you expect given what you have discovered in the first exercise? If\n",
    "not, where did you discover discrepancies? Do you have an idea, where these might come from?"
   ]
  },
  {
   "cell_type": "markdown",
   "metadata": {
    "collapsed": true
   },
   "source": [
    "## 8. References"
   ]
  },
  {
   "cell_type": "markdown",
   "metadata": {},
   "source": [
    "Pulliainen, J., M. Engdahl, and M. Hallikainen (2003), Feasibility of multi-temporal interferometric sar\n",
    "data for stand-level estimation of boreal forest stem volume, Remote Sensing of Environment, 85(4),\n",
    "p. 397–409."
   ]
  },
  {
   "cell_type": "code",
   "execution_count": null,
   "metadata": {
    "collapsed": true
   },
   "outputs": [],
   "source": []
  }
 ],
 "metadata": {
  "kernelspec": {
   "display_name": "Python 2",
   "language": "python",
   "name": "python2"
  },
  "language_info": {
   "codemirror_mode": {
    "name": "ipython",
    "version": 2
   },
   "file_extension": ".py",
   "mimetype": "text/x-python",
   "name": "python",
   "nbconvert_exporter": "python",
   "pygments_lexer": "ipython2",
   "version": "2.7.11"
  }
 },
 "nbformat": 4,
 "nbformat_minor": 0
}
