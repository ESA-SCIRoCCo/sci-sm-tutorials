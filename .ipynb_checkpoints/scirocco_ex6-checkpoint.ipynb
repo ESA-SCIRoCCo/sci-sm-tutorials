{
 "cells": [
  {
   "cell_type": "markdown",
   "metadata": {},
   "source": [
    "# Plot ERS Orbit Files"
   ]
  },
  {
   "cell_type": "code",
   "execution_count": 6,
   "metadata": {
    "collapsed": false
   },
   "outputs": [],
   "source": [
    "%matplotlib inline"
   ]
  },
  {
   "cell_type": "markdown",
   "metadata": {},
   "source": [
    "Orbit files are available approximately every 100 minutes, because that's the time the satellite takes for one complete orbit:\n",
    "<br><br>\n",
    "<img src='http://www.fe-lexikon.info/images/poes_orbit1.gif'>\n",
    "<br><br>\n",
    "You can plot different files in order to get an impression of how the satellite swath changes over time.<br>\n",
    "Here's a list of all orbit files of January 1, 1998. To plot another file, just change \"ers_name\" accordingly and run the code again by hitting Shift+Enter:\n",
    "<br><br>\n",
    "'ASPS20_H_980101000717.nc'<br>\n",
    "'ASPS20_H_980101014753.nc'<br>\n",
    "'ASPS20_H_980101032829.nc'<br>\n",
    "'ASPS20_H_980101050905.nc'<br>\n",
    "'ASPS20_H_980101064941.nc'<br>\n",
    "'ASPS20_H_980101083017.nc'<br>\n",
    "'ASPS20_H_980101101053.nc'<br>\n",
    "'ASPS20_H_980101115129.nc'<br>\n",
    "'ASPS20_H_980101133204.nc'<br>\n",
    "'ASPS20_H_980101151240.nc'<br>\n",
    "'ASPS20_H_980101165316.nc'<br>\n",
    "'ASPS20_H_980101183352.nc'<br>\n",
    "'ASPS20_H_980101201429.nc'<br>\n",
    "'ASPS20_H_980101215505.nc'<br>\n",
    "'ASPS20_H_980101233540.nc'"
   ]
  },
  {
   "cell_type": "code",
   "execution_count": 1,
   "metadata": {
    "collapsed": false
   },
   "outputs": [
    {
     "ename": "ImportError",
     "evalue": "No module named matplotlib.pyplot",
     "output_type": "error",
     "traceback": [
      "\u001b[1;31m---------------------------------------------------------------------------\u001b[0m",
      "\u001b[1;31mImportError\u001b[0m                               Traceback (most recent call last)",
      "\u001b[1;32m<ipython-input-1-577583e45b27>\u001b[0m in \u001b[0;36m<module>\u001b[1;34m()\u001b[0m\n\u001b[0;32m      2\u001b[0m \u001b[1;32mimport\u001b[0m \u001b[0mos\u001b[0m\u001b[1;33m\u001b[0m\u001b[0m\n\u001b[0;32m      3\u001b[0m \u001b[1;32mimport\u001b[0m \u001b[0mnumpy\u001b[0m \u001b[1;32mas\u001b[0m \u001b[0mnp\u001b[0m\u001b[1;33m\u001b[0m\u001b[0m\n\u001b[1;32m----> 4\u001b[1;33m \u001b[1;32mimport\u001b[0m \u001b[0mmatplotlib\u001b[0m\u001b[1;33m.\u001b[0m\u001b[0mpyplot\u001b[0m \u001b[1;32mas\u001b[0m \u001b[0mplt\u001b[0m\u001b[1;33m\u001b[0m\u001b[0m\n\u001b[0m\u001b[0;32m      5\u001b[0m \u001b[1;32mfrom\u001b[0m \u001b[0mmpl_toolkits\u001b[0m\u001b[1;33m.\u001b[0m\u001b[0mbasemap\u001b[0m \u001b[1;32mimport\u001b[0m \u001b[0mBasemap\u001b[0m\u001b[1;33m\u001b[0m\u001b[0m\n\u001b[0;32m      6\u001b[0m \u001b[1;32mimport\u001b[0m \u001b[0mpytesmo\u001b[0m\u001b[1;33m.\u001b[0m\u001b[0mcolormaps\u001b[0m\u001b[1;33m.\u001b[0m\u001b[0mload_cmap\u001b[0m \u001b[1;32mas\u001b[0m \u001b[0msmcolormaps\u001b[0m\u001b[1;33m\u001b[0m\u001b[0m\n",
      "\u001b[1;31mImportError\u001b[0m: No module named matplotlib.pyplot"
     ]
    }
   ],
   "source": [
    "from netCDF4 import Dataset\n",
    "import os\n",
    "import numpy as np\n",
    "import matplotlib.pyplot as plt\n",
    "from mpl_toolkits.basemap import Basemap\n",
    "import pytesmo.colormaps.load_cmap as smcolormaps\n",
    "\n",
    "ers_path = '/IPF/ipfeil/R/Datapool_processed/ERS/gpod_netcdf/1998/01/'\n",
    "\n",
    "# change \"ers_name\" to plot different swaths\n",
    "ers_name = 'ASPS20_H_980101151240.nc'\n",
    "\n",
    "ers_file = os.path.join(ers_path, ers_name)\n",
    "\n",
    "nfile = Dataset(ers_file, 'r')\n",
    "sm_data = nfile.variables['SSM'][:]\n",
    "lons = nfile.variables['lon'][:]\n",
    "lats = nfile.variables['lat'][:]\n",
    "nfile.close()\n",
    "\n",
    "fig = plt.figure(figsize=(20,20))\n",
    "ax = fig.add_axes([0.1,0.1,0.8,0.8])\n",
    "m = Basemap(projection='cyl', ax=ax)\n",
    "m.drawcoastlines()\n",
    "m.drawcountries()\n",
    "#draw parallels and meridians.\n",
    "#label on left and bottom of map.\n",
    "parallels = np.arange(-90,90,15.)\n",
    "m.drawparallels(parallels,labels=[1,0,0,0])\n",
    "meridians = np.arange(-180,180,15.)\n",
    "m.drawmeridians(meridians,labels=[0,0,0,1])\n",
    "sc = m.scatter(lons, lats, c=sm_data, edgecolor=\"None\", marker=\"s\", s=10)\n",
    "cb = m.colorbar(sc,\"right\", size=\"5%\", pad='2%')\n",
    "cb.set_label('relative surface soil moisture [%]')\n",
    "plt.title(ers_name)\n",
    "plt.show()"
   ]
  },
  {
   "cell_type": "code",
   "execution_count": null,
   "metadata": {
    "collapsed": true
   },
   "outputs": [],
   "source": []
  }
 ],
 "metadata": {
  "kernelspec": {
   "display_name": "Python 2",
   "language": "python",
   "name": "python2"
  },
  "language_info": {
   "codemirror_mode": {
    "name": "ipython",
    "version": 2
   },
   "file_extension": ".py",
   "mimetype": "text/x-python",
   "name": "python",
   "nbconvert_exporter": "python",
   "pygments_lexer": "ipython2",
   "version": "2.7.11"
  }
 },
 "nbformat": 4,
 "nbformat_minor": 0
}
